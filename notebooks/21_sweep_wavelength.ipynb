{
 "cells": [
  {
   "cell_type": "markdown",
   "metadata": {},
   "source": [
    "# Group index"
   ]
  },
  {
   "cell_type": "code",
   "execution_count": null,
   "metadata": {},
   "outputs": [],
   "source": [
    "import numpy as np\n",
    "import matplotlib.pyplot as plt\n",
    "import modesolverpy as ms\n",
    "import opticalmaterialspy as mat"
   ]
  },
  {
   "cell_type": "code",
   "execution_count": null,
   "metadata": {},
   "outputs": [],
   "source": [
    "ms = ms.group_index?"
   ]
  },
  {
   "cell_type": "code",
   "execution_count": null,
   "metadata": {},
   "outputs": [],
   "source": [
    "ms.group_index()"
   ]
  },
  {
   "cell_type": "code",
   "execution_count": null,
   "metadata": {},
   "outputs": [],
   "source": [
    "wavelength = np.arange(1500, 1600, 10)*1e-3\n",
    "wg_widths = np.arange(400, 601, 50)*1e-3\n",
    "\n",
    "for wg_width in wg_widths:\n",
    "    ng = [ms.group_index(w, wg_width=wg_width) for w in wavelength]\n",
    "    plt.plot(wavelength, ng, label=f'{wg_width*1e3}')\n",
    "plt.legend()\n",
    "plt.xlabel('Wavelength (um)')\n",
    "plt.xlabel('ng')"
   ]
  }
 ],
 "metadata": {},
 "nbformat": 4,
 "nbformat_minor": 2
}
