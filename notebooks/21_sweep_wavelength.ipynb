{
 "cells": [
  {
   "cell_type": "markdown",
   "metadata": {},
   "source": [
    "# Group index"
   ]
  },
  {
   "cell_type": "code",
   "execution_count": null,
   "metadata": {},
   "outputs": [],
   "source": [
    "import numpy as np\n",
    "import matplotlib.pyplot as plt\n",
    "import modes as ms\n",
    "import opticalmaterialspy as mat"
   ]
  },
  {
   "cell_type": "code",
   "execution_count": null,
   "metadata": {},
   "outputs": [],
   "source": [
    "ms = ms.group_index?"
   ]
  },
  {
   "cell_type": "code",
   "execution_count": null,
   "metadata": {},
   "outputs": [],
   "source": [
    "ms = ms.group_index"
   ]
  },
  {
   "cell_type": "code",
   "execution_count": null,
   "metadata": {},
   "outputs": [],
   "source": [
    "ms.group_index()"
   ]
  },
  {
   "cell_type": "code",
   "execution_count": null,
   "metadata": {},
   "outputs": [],
   "source": [
    "wavelength = np.arange(1500, 1600, 10)*1e-3\n",
    "wg_widths = np.arange(400, 601, 50)*1e-3\n",
    "\n",
    "for wg_width in wg_widths:\n",
    "    ng = [ms.group_index(w, wg_width=wg_width) for w in wavelength]\n",
    "    plt.plot(wavelength, ng, label=f'{wg_width*1e3}')\n",
    "plt.legend()\n",
    "plt.xlabel('Wavelength (um)')\n",
    "plt.xlabel('ng')"
   ]
  },
  {
   "cell_type": "code",
   "execution_count": null,
   "metadata": {},
   "outputs": [],
   "source": [
    "w = wavelength[0]\n",
    "ms.group_index(w, wg_width=wg_width)"
   ]
  },
  {
   "cell_type": "code",
   "execution_count": null,
   "metadata": {},
   "outputs": [],
   "source": [
    "wg_widths = np.array([490, 500, 510])*1e-3\n",
    "ng = [ms.group_index(w, wg_width=wg_width)[0] for wg_width in wg_widths]"
   ]
  },
  {
   "cell_type": "code",
   "execution_count": null,
   "metadata": {},
   "outputs": [],
   "source": [
    "np.diff(ng)/np.diff(wg_widths) # dng/dw [/um]"
   ]
  },
  {
   "cell_type": "code",
   "execution_count": null,
   "metadata": {},
   "outputs": [],
   "source": [
    "wg_thicknesss = np.array([200, 220, 240])*1e-3\n",
    "ng = [ms.group_index(w, wg_thickness=wg_thickness)[0] for wg_thickness in wg_thicknesss]"
   ]
  },
  {
   "cell_type": "code",
   "execution_count": null,
   "metadata": {},
   "outputs": [],
   "source": [
    "np.diff(ng)/np.diff(wg_thicknesss) # dng/dh [/um]"
   ]
  },
  {
   "cell_type": "code",
   "execution_count": null,
   "metadata": {},
   "outputs": [],
   "source": [
    "plt.plot(wg_thicknesss*1e3, ng, '-o')\n",
    "plt.ylabel('ng')\n",
    "plt.xlabel('wg_thickness (nm)')"
   ]
  },
  {
   "cell_type": "code",
   "execution_count": null,
   "metadata": {},
   "outputs": [],
   "source": []
  }
 ],
 "metadata": {
  "kernelspec": {
   "display_name": "Python 3",
   "language": "python",
   "name": "python3"
  },
  "language_info": {
   "codemirror_mode": {
    "name": "ipython",
    "version": 3
   },
   "file_extension": ".py",
   "mimetype": "text/x-python",
   "name": "python",
   "nbconvert_exporter": "python",
   "pygments_lexer": "ipython3",
   "version": "3.8.3"
  }
 },
 "nbformat": 4,
 "nbformat_minor": 4
}
