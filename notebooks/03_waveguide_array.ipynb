{
 "cells": [
  {
   "cell_type": "markdown",
   "metadata": {},
   "source": [
    "# Waveguide array\n",
    "\n",
    "To define a waveguide array we need to define:\n",
    "\n",
    "- wg_gaps\n",
    "- wg_widths\n",
    "- the material functions or refractive indices of box, waveguide and clad\n",
    "- height of each material\n",
    "- x and y_steps for discretizing the structure\n",
    "- sidewall angle\n",
    "- wavelength that can be used in case the refractive index are a function of the wavelength\n",
    "\n",
    "Where all units are in um\n",
    "\n",
    "\n",
    "```\n",
    "\n",
    "     __________________________________________________________\n",
    " \n",
    "                                                              clad_height\n",
    "          wg_widths[0]  wg_gaps[0]  wg_widths[1]\n",
    "           ___________              ___________    _ _ _ _ _ _\n",
    "          |           |            |           |\n",
    "     _____|           |____________|           |____          |\n",
    "                                                              wg_heigth\n",
    "     slab_height                                              |\n",
    "     ________________________________________________ _ _ _ _ _\n",
    " \n",
    "     sub_height                 \n",
    "     __________________________________________________________\n",
    "\n",
    "\n",
    "\n",
    "\n",
    "```"
   ]
  },
  {
   "cell_type": "code",
   "execution_count": null,
   "metadata": {},
   "outputs": [],
   "source": [
    "import modesolverpy as ms"
   ]
  },
  {
   "cell_type": "code",
   "execution_count": null,
   "metadata": {},
   "outputs": [],
   "source": [
    "wg = ms.waveguide_array(wg_widths=[0.5]*2, wg_gaps=0.2)"
   ]
  },
  {
   "cell_type": "code",
   "execution_count": null,
   "metadata": {},
   "outputs": [],
   "source": [
    "ms.write_material_index(wg)"
   ]
  },
  {
   "cell_type": "code",
   "execution_count": null,
   "metadata": {},
   "outputs": [],
   "source": [
    "ms.waveguide_array?"
   ]
  },
  {
   "cell_type": "code",
   "execution_count": null,
   "metadata": {},
   "outputs": [],
   "source": [
    "wg_slab = ms.waveguide_array(wg_widths=[0.5]*2, wg_gaps=0.2, slab_height=0.09)"
   ]
  },
  {
   "cell_type": "code",
   "execution_count": null,
   "metadata": {},
   "outputs": [],
   "source": [
    "ms.write_material_index(wg_slab)"
   ]
  },
  {
   "cell_type": "code",
   "execution_count": null,
   "metadata": {},
   "outputs": [],
   "source": []
  }
 ],
 "metadata": {
  "kernelspec": {
   "display_name": "Python 3",
   "language": "python",
   "name": "python3"
  },
  "language_info": {
   "codemirror_mode": {
    "name": "ipython",
    "version": 3
   },
   "file_extension": ".py",
   "mimetype": "text/x-python",
   "name": "python",
   "nbconvert_exporter": "python",
   "pygments_lexer": "ipython3",
   "version": "3.7.6"
  }
 },
 "nbformat": 4,
 "nbformat_minor": 4
}
