{
 "cells": [
  {
   "cell_type": "markdown",
   "metadata": {},
   "source": [
    "# Waveguide array\n",
    "\n",
    "To define a waveguide array we need to define:\n",
    "\n",
    "- wg_gaps\n",
    "- wg_widths\n",
    "- the material functions or refractive indices of box, waveguide and clad\n",
    "- thickness of each material\n",
    "- x and y_steps for discretizing the structure\n",
    "- sidewall angle\n",
    "- wavelength that can be used in case the refractive index are a function of the\n",
    "wavelength\n",
    "\n",
    "Where all units are in um"
   ]
  },
  {
   "cell_type": "code",
   "execution_count": null,
   "metadata": {},
   "outputs": [],
   "source": [
    "\n",
    "     __________________________________________________________\n",
    "\n",
    "                                                              clad_thickness\n",
    "          wg_widths[0]  wg_gaps[0]  wg_widths[1]\n",
    "           ___________              ___________    _ _ _ _ _ _\n",
    "          |           |            |           |\n",
    "     _____|           |____________|           |____          |\n",
    "                                                              wg_heigth\n",
    "     slab_thickness                                              |\n",
    "     ________________________________________________ _ _ _ _ _\n",
    "\n",
    "     sub_thickness\n",
    "     __________________________________________________________\n",
    "\n",
    "\n",
    "\n"
   ]
  },
  {
   "cell_type": "code",
   "execution_count": null,
   "metadata": {},
   "outputs": [],
   "source": [
    "import modes as ms"
   ]
  },
  {
   "cell_type": "code",
   "execution_count": null,
   "metadata": {},
   "outputs": [],
   "source": [
    "wg = ms.waveguide_array(wg_widths=[0.5]*2, wg_gaps=0.2)"
   ]
  },
  {
   "cell_type": "code",
   "execution_count": null,
   "metadata": {},
   "outputs": [],
   "source": [
    "ms.write_material_index(wg)"
   ]
  },
  {
   "cell_type": "code",
   "execution_count": null,
   "metadata": {},
   "outputs": [],
   "source": [
    "ms.waveguide_array?"
   ]
  },
  {
   "cell_type": "code",
   "execution_count": null,
   "metadata": {},
   "outputs": [],
   "source": [
    "wg_slab = ms.waveguide_array(wg_widths=[0.5]*2, wg_gaps=0.2, slab_thickness=0.09)"
   ]
  },
  {
   "cell_type": "code",
   "execution_count": null,
   "metadata": {},
   "outputs": [],
   "source": [
    "ms.write_material_index(wg_slab)"
   ]
  },
  {
   "cell_type": "code",
   "execution_count": null,
   "metadata": {},
   "outputs": [],
   "source": [
    "s = ms.mode_solver_full(wg=wg_slab, plot=True, fields_to_write=('Ex'))"
   ]
  }
 ],
 "metadata": {},
 "nbformat": 4,
 "nbformat_minor": 2
}
