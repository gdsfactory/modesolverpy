{
 "cells": [
  {
   "cell_type": "markdown",
   "metadata": {},
   "source": [
    "# Sweep waveguide width\n",
    "\n",
    "Compute the effective index of different modes for different waveguide widths\n",
    "\n",
    "we compute mode properties (neff, aeff ...) as a function of the waveguide width\n",
    "\n",
    "we have to make sure that the simulation region is larger than the waveguide\n",
    "\n",
    "\n",
    "```\n",
    "    _________________________________\n",
    "\n",
    "                                    clad_height\n",
    "           wg_width\n",
    "         <---------->\n",
    "          ___________    _ _ _ _ _ _\n",
    "         |           |\n",
    "    _____|           |____          |\n",
    "                                    wg_heigth\n",
    "    slab_height                     |\n",
    "    _______________________ _ _ _ _ __\n",
    "\n",
    "    sub_height\n",
    "    _________________________________\n",
    "    <------------------------------->\n",
    "                 sub_width\n",
    "\n",
    "```"
   ]
  },
  {
   "cell_type": "code",
   "execution_count": null,
   "metadata": {},
   "outputs": [],
   "source": [
    "import numpy as np\n",
    "import matplotlib.pyplot as plt\n",
    "import modesolverpy as ms\n",
    "import opticalmaterialspy as mat\n",
    "\n",
    "wg_widths = np.arange(0.3, 2.0, 0.02)\n",
    "\n",
    "wg_widths = np.arange(0.3, 2.0, 0.2)\n",
    "wgs = [ms.waveguide(wg_width=wg_width) for wg_width in wg_widths]"
   ]
  },
  {
   "cell_type": "code",
   "execution_count": null,
   "metadata": {},
   "outputs": [],
   "source": [
    "s = ms.sweep_waveguide?"
   ]
  },
  {
   "cell_type": "code",
   "execution_count": null,
   "metadata": {},
   "outputs": [],
   "source": [
    "s = ms.sweep_waveguide"
   ]
  },
  {
   "cell_type": "code",
   "execution_count": null,
   "metadata": {},
   "outputs": [],
   "source": [
    "s = ms.sweep_waveguide"
   ]
  },
  {
   "cell_type": "code",
   "execution_count": null,
   "metadata": {},
   "outputs": [],
   "source": [
    "s = ms.sweep_waveguide(wgs, wg_widths, legend=['TE0', 'TM0', 'TE1', 'TM1'], overwrite=False)"
   ]
  },
  {
   "cell_type": "code",
   "execution_count": null,
   "metadata": {},
   "outputs": [],
   "source": [
    "wgs1310 = [ms.waveguide(wg_width=wg_width, wavelength=1.31) for wg_width in wg_widths]"
   ]
  },
  {
   "cell_type": "code",
   "execution_count": null,
   "metadata": {},
   "outputs": [],
   "source": [
    "s = ms.sweep_waveguide(wgs1310, wg_widths)"
   ]
  },
  {
   "cell_type": "code",
   "execution_count": null,
   "metadata": {},
   "outputs": [],
   "source": [
    "wg_widths = np.arange(0.3, 1.0, 0.5)\n",
    "overwrite = False\n",
    "wgs = [ms.waveguide(wg_width=wg_width, sub_width=3) for wg_width in wg_widths]\n",
    "r = ms.sweep_waveguide(\n",
    "    wgs, wg_widths, n_modes=2, fraction_mode_list=[1, 2], overwrite=overwrite,\n",
    ")"
   ]
  },
  {
   "cell_type": "code",
   "execution_count": null,
   "metadata": {},
   "outputs": [],
   "source": [
    "wg_widths = np.arange(0.3, 1.0, 0.5)\n",
    "overwrite = False\n",
    "wgs = [ms.waveguide(wg_width=wg_width) for wg_width in wg_widths]\n",
    "r2 = ms.sweep_waveguide(\n",
    "    wgs, wg_widths, n_modes=2, fraction_mode_list=[1, 2], overwrite=overwrite,\n",
    ")"
   ]
  }
 ],
 "metadata": {
  "kernelspec": {
   "display_name": "Python 3",
   "language": "python",
   "name": "python3"
  },
  "language_info": {
   "codemirror_mode": {
    "name": "ipython",
    "version": 3
   },
   "file_extension": ".py",
   "mimetype": "text/x-python",
   "name": "python",
   "nbconvert_exporter": "python",
   "pygments_lexer": "ipython3",
   "version": "3.7.6"
  }
 },
 "nbformat": 4,
 "nbformat_minor": 4
}
