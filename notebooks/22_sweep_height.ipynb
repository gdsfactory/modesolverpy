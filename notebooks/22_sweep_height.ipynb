{
 "cells": [
  {
   "cell_type": "markdown",
   "metadata": {},
   "source": [
    "# Waveguide compact model\n",
    "\n",
    "Lets build a waveguide compact model that predicts neff(wg_width, wg_height,  wavelength) for the fundamental TE model of a silicon strip waveguide"
   ]
  },
  {
   "cell_type": "markdown",
   "metadata": {},
   "source": [
    "\n",
    "```\n",
    "_________________________________\n",
    "\n",
    "                                clad_height\n",
    "       wg_width\n",
    "     <---------->\n",
    "      ___________    _ _ _ _ _ _\n",
    "     |           |\n",
    "_____|           |____          |\n",
    "                                wg_heigth\n",
    "slab_height                     |\n",
    "_______________________ _ _ _ _ __\n",
    "\n",
    "sub_height\n",
    "_________________________________\n",
    "<------------------------------->\n",
    "             sub_width\n",
    "             \n",
    "```"
   ]
  },
  {
   "cell_type": "code",
   "execution_count": null,
   "metadata": {
    "attributes": {
     "classes": [],
     "id": "",
     "n": "1"
    }
   },
   "outputs": [],
   "source": [
    "import numpy as np\n",
    "import matplotlib.pyplot as plt\n",
    "import modes as ms"
   ]
  },
  {
   "cell_type": "markdown",
   "metadata": {},
   "source": [
    "Lets compute the effective index `neff` as a function of waveguide height. To compute the waveguide height we need to increase the default y grid spacing (20nm) to 5nm"
   ]
  },
  {
   "cell_type": "code",
   "execution_count": null,
   "metadata": {},
   "outputs": [],
   "source": [
    "wg_heights = np.arange(210e-3, 230e-3, 5e-3)\n",
    "wgs = [ms.waveguide(wg_height=h, y_step=0.005) for h in wg_heights]\n",
    "s = ms.sweep_waveguide(wgs, wg_heights, legend=['TE0', 'TM0', 'TE1', 'TM1'], overwrite=False, plot=False)"
   ]
  },
  {
   "cell_type": "code",
   "execution_count": null,
   "metadata": {},
   "outputs": [],
   "source": [
    "n0 = [n[0] for n in s['n_effs']]\n",
    "ph  = np.polyfit(wg_heights, n0, 1)\n",
    "n0f = np.polyval(ph, wg_heights)\n",
    "plt.plot(wg_heights*1e3, n0, '.')\n",
    "plt.plot(wg_heights*1e3, n0f, '-')\n",
    "plt.xlabel('wg height (nm)')\n",
    "plt.ylabel('neff')"
   ]
  },
  {
   "cell_type": "markdown",
   "metadata": {},
   "source": [
    "Lets Compute the effective index `neff` as a function of waveguide width"
   ]
  },
  {
   "cell_type": "code",
   "execution_count": null,
   "metadata": {},
   "outputs": [],
   "source": [
    "wg_widths = np.arange(0.3, 2.0, 0.2)\n",
    "wg_widths = np.arange(0.3, 2.0, 0.02)\n",
    "wgs = [ms.waveguide(wg_width=wg_width) for wg_width in wg_widths]\n",
    "s = ms.sweep_waveguide(wgs, wg_widths, legend=['TE0', 'TM0', 'TE1', 'TM1'], overwrite=False, plot=False)"
   ]
  },
  {
   "cell_type": "code",
   "execution_count": null,
   "metadata": {},
   "outputs": [],
   "source": [
    "n0 = [n[0] for n in s['n_effs']]\n",
    "pw  = np.polyfit(wg_widths, n0, 6)\n",
    "n0f = np.polyval(pw, wg_widths)\n",
    "plt.plot(wg_widths, n0, '.')\n",
    "plt.plot(wg_widths, n0f, '.')\n",
    "plt.xlabel('wg_width (um)')\n",
    "plt.ylabel('neff')"
   ]
  },
  {
   "cell_type": "markdown",
   "metadata": {},
   "source": [
    "Finally we compute the effective index as a function of wavelength"
   ]
  },
  {
   "cell_type": "code",
   "execution_count": null,
   "metadata": {},
   "outputs": [],
   "source": [
    "wavelengths = np.arange(1500, 1600, 10)*1e-3\n",
    "s = ms.sweep_wavelength(wavelengths, plot=False, overwrite=False)"
   ]
  },
  {
   "cell_type": "code",
   "execution_count": null,
   "metadata": {},
   "outputs": [],
   "source": [
    "n0 = [n[0] for n in s['n_effs']]\n",
    "pwav  = np.polyfit(wavelengths, n0, 1)\n",
    "n0f = np.polyval(pwav, wavelengths)\n",
    "plt.plot(wavelengths, n0, '.')\n",
    "plt.plot(wavelengths, n0f, '-')\n",
    "plt.xlabel('wavelength (um)')\n",
    "plt.ylabel('neff')"
   ]
  },
  {
   "cell_type": "code",
   "execution_count": null,
   "metadata": {},
   "outputs": [],
   "source": [
    "pwav"
   ]
  },
  {
   "cell_type": "code",
   "execution_count": null,
   "metadata": {},
   "outputs": [],
   "source": []
  }
 ],
 "metadata": {
  "kernelspec": {
   "display_name": "Python 3",
   "language": "python",
   "name": "python3"
  },
  "language_info": {
   "codemirror_mode": {
    "name": "ipython",
    "version": 3
   },
   "file_extension": ".py",
   "mimetype": "text/x-python",
   "name": "python",
   "nbconvert_exporter": "python",
   "pygments_lexer": "ipython3",
   "version": "3.7.7"
  }
 },
 "nbformat": 4,
 "nbformat_minor": 4
}
