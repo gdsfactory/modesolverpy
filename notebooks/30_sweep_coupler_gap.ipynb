{
 "cells": [
  {
   "cell_type": "markdown",
   "metadata": {},
   "source": [
    "# Sweep the coupler gap\n",
    "\n",
    "Analytic calculation of 100% coupling length into two parallel SOI waveguides\n",
    "with a varying gap at different TE wavelengths.\n",
    "\n",
    "An example refractive index profile for the two waveguides spaced 200nm is\n",
    "shown."
   ]
  },
  {
   "cell_type": "code",
   "execution_count": null,
   "metadata": {},
   "outputs": [],
   "source": [
    "import numpy as np\n",
    "import matplotlib.pyplot as plt\n",
    "import modes as ms\n",
    "import opticalmaterialspy as mat\n",
    "from modes.design import directional_coupler_lc\n",
    "\n",
    "wg_widths = [0.5]*2\n",
    "wg_gaps = np.arange(0.15, 0.30, 0.05)\n",
    "dcs = [ms.waveguide_array(wg_widths=wg_widths, wg_gaps=[wg_gap], sub_width=3) for wg_gap in wg_gaps]"
   ]
  },
  {
   "cell_type": "code",
   "execution_count": null,
   "metadata": {},
   "outputs": [],
   "source": [
    "n_effs = [ms.mode_solver_full(wg=wg, n_modes=2).results['n_effs'] for wg in dcs]"
   ]
  },
  {
   "cell_type": "code",
   "execution_count": null,
   "metadata": {},
   "outputs": [],
   "source": [
    "ne = [ n_eff[0].real for n_eff in n_effs]\n",
    "no = [ n_eff[1].real for n_eff in n_effs]"
   ]
  },
  {
   "cell_type": "code",
   "execution_count": null,
   "metadata": {},
   "outputs": [],
   "source": [
    "wavelength_nm  = 1550\n",
    "lc = [directional_coupler_lc(wavelength_nm, n_eff_1, n_eff_2) for n_eff_1, n_eff_2 in zip(ne, no)]"
   ]
  },
  {
   "cell_type": "code",
   "execution_count": null,
   "metadata": {},
   "outputs": [],
   "source": [
    "plt.plot(wg_gaps*1e3, lc, 'o')\n",
    "plt.xlabel('gap (nm)')\n",
    "plt.ylabel('100% Coupling length (um)')"
   ]
  },
  {
   "cell_type": "code",
   "execution_count": null,
   "metadata": {},
   "outputs": [],
   "source": [
    "# to increase reduce the gap step we need to reduce the size of the x_step and y_step computing grid\n",
    "\n",
    "wg_gaps = np.arange(0.15, 0.30, 0.02)\n",
    "dcs = [ms.waveguide_array(wg_widths=wg_widths, wg_gaps=[wg_gap], x_step=0.01, y_step=0.01) for wg_gap in wg_gaps]\n",
    "n_effs = [ms.mode_solver_full(wg=wg, n_modes=2).results['n_effs'] for wg in dcs]\n",
    "ne = [ n_eff[0].real for n_eff in n_effs]\n",
    "no = [ n_eff[1].real for n_eff in n_effs]\n",
    "lc = [directional_coupler_lc(wavelength_nm, n_eff_1, n_eff_2) for n_eff_1, n_eff_2 in zip(ne, no)]"
   ]
  },
  {
   "cell_type": "code",
   "execution_count": null,
   "metadata": {},
   "outputs": [],
   "source": [
    "plt.plot(wg_gaps*1e3, lc, 'o')\n",
    "plt.xlabel('gap (nm)')\n",
    "plt.ylabel('100% Coupling length (um)')"
   ]
  }
 ],
 "metadata": {},
 "nbformat": 4,
 "nbformat_minor": 2
}
