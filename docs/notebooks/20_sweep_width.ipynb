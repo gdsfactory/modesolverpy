{
 "cells": [
  {
   "cell_type": "markdown",
   "metadata": {},
   "source": [
    "# Sweep waveguide width\n",
    "\n",
    "Compute the effective index of different modes for different waveguide widths\n",
    "\n",
    "we compute mode properties (neff, aeff ...) as a function of the waveguide width\n",
    "\n",
    "we have to make sure that the simulation region is larger than the waveguide\n",
    "\n",
    "\n",
    "Simulation of mode hybridisation in 220nm thick fully-etched SOI ridge\n",
    "waveguides.\n",
    "\n",
    "Results look the same as those found in [Daoxin Dai and Ming Zhang, \"Mode\n",
    "hybridization and conversion in silicon-on-insulator nanowires with angled\n",
    "sidewalls,\" Opt. Express 23, 32452-32464\n",
    "(2015)](https://www.osapublishing.org/oe/abstract.cfm?uri=oe-23-25-32452)."
   ]
  },
  {
   "cell_type": "markdown",
   "metadata": {},
   "source": [
    "    _________________________________\n",
    "\n",
    "                                    clad_thickness\n",
    "           width\n",
    "         <---------->\n",
    "          ___________    _ _ _ _ _ _\n",
    "         |           |\n",
    "    _____|           |____          |\n",
    "                                    wg_heigth\n",
    "    slab_thickness                     |\n",
    "    _______________________ _ _ _ _ __\n",
    "\n",
    "    sub_thickness\n",
    "    _________________________________\n",
    "    <------------------------------->\n",
    "                 sub_width\n"
   ]
  },
  {
   "cell_type": "code",
   "execution_count": null,
   "metadata": {},
   "outputs": [],
   "source": [
    "import numpy as np\n",
    "import matplotlib.pyplot as plt\n",
    "import modes as ms\n",
    "import opticalmaterialspy as mat\n",
    "\n",
    "#widths = np.arange(0.3, 2.0, 0.02)\n",
    "widths = np.arange(0.3, 2.0, 0.2)\n",
    "\n",
    "wgs = [ms.waveguide(width=width) for width in widths]\n",
    "wgs[0]"
   ]
  },
  {
   "cell_type": "code",
   "execution_count": null,
   "metadata": {},
   "outputs": [],
   "source": [
    "s = ms.sweep_waveguide?"
   ]
  },
  {
   "cell_type": "markdown",
   "metadata": {},
   "source": [
    "## 1550 nm strip waveguides"
   ]
  },
  {
   "cell_type": "markdown",
   "metadata": {},
   "source": [
    "Here are some waveguide simulations for C (1550nm) and O (1310) band, where we sweep the waveguide width and compute the effective modes supported by the waveguide.\n",
    "\n",
    "TE mode (transverse-electrical) means that the light is mainly polarized in the horizontal direction (the main electric field component is Ex) while TM  transverse magnetic field modes have the strongest field component (Ey). We can see why for 1550nm a typical waveguide width is 0.5nm, as they only support one TE mode."
   ]
  },
  {
   "cell_type": "code",
   "execution_count": null,
   "metadata": {},
   "outputs": [],
   "source": [
    "ms.mode_solver_full?"
   ]
  },
  {
   "cell_type": "code",
   "execution_count": null,
   "metadata": {},
   "outputs": [],
   "source": [
    "ms.mode_solver_full(width=0.5, plot=True, fields_to_write=('Ex', 'Ey'))"
   ]
  },
  {
   "cell_type": "markdown",
   "metadata": {},
   "source": [
    "As waveguides become wider they start supporting more than one single mode. For example, a 2um wide waveguide supports 4 different TE modes (TE0: 1 lobe, TE1: 2 lobes, TE2: 3 lobes, TE3:4 lobes)"
   ]
  },
  {
   "cell_type": "code",
   "execution_count": null,
   "metadata": {},
   "outputs": [],
   "source": [
    "ms.mode_solver_full(width=2.0, plot=True, n_modes=4, fields_to_write=('Ex'))"
   ]
  },
  {
   "cell_type": "code",
   "execution_count": null,
   "metadata": {},
   "outputs": [],
   "source": [
    "s = ms.sweep_waveguide(wgs, widths, legend=['TE0', 'TM0', 'TE1', 'TM1'], overwrite=False)"
   ]
  },
  {
   "cell_type": "markdown",
   "metadata": {},
   "source": [
    "we can create a waveguide compact model that captures the neff variation with width for the fundamental TE mode"
   ]
  },
  {
   "cell_type": "code",
   "execution_count": null,
   "metadata": {},
   "outputs": [],
   "source": [
    "s.keys()"
   ]
  },
  {
   "cell_type": "code",
   "execution_count": null,
   "metadata": {},
   "outputs": [],
   "source": [
    "n0 = [n[0] for n in s['n_effs']]"
   ]
  },
  {
   "cell_type": "code",
   "execution_count": null,
   "metadata": {},
   "outputs": [],
   "source": [
    "plt.plot(widths, n0, '.')\n",
    "plt.xlabel('width (um)')\n",
    "plt.ylabel('neff')"
   ]
  },
  {
   "cell_type": "code",
   "execution_count": null,
   "metadata": {},
   "outputs": [],
   "source": [
    "p  = np.polyfit(widths, n0, 6)\n",
    "n0f = np.polyval(p, widths)\n",
    "plt.plot(widths, n0, '.')\n",
    "plt.plot(widths, n0f, '.')\n",
    "plt.xlabel('width (um)')\n",
    "plt.ylabel('neff')"
   ]
  },
  {
   "cell_type": "code",
   "execution_count": null,
   "metadata": {},
   "outputs": [],
   "source": [
    "p"
   ]
  },
  {
   "cell_type": "markdown",
   "metadata": {},
   "source": [
    "## 1310 nm strip waveguides"
   ]
  },
  {
   "cell_type": "code",
   "execution_count": null,
   "metadata": {},
   "outputs": [],
   "source": [
    "wgs1310 = [ms.waveguide(width=width, wavelength=1.31) for width in widths]"
   ]
  },
  {
   "cell_type": "code",
   "execution_count": null,
   "metadata": {},
   "outputs": [],
   "source": [
    "s = ms.sweep_waveguide(wgs1310, widths)"
   ]
  },
  {
   "cell_type": "code",
   "execution_count": null,
   "metadata": {},
   "outputs": [],
   "source": [
    "widths = np.arange(0.3, 1.0, 0.1)\n",
    "overwrite = False\n",
    "wgs = [ms.waveguide(width=width) for width in widths]\n",
    "r2 = ms.sweep_waveguide(\n",
    "    wgs, widths, n_modes=2, fraction_mode_list=[1, 2], overwrite=overwrite,\n",
    ")"
   ]
  },
  {
   "cell_type": "markdown",
   "metadata": {},
   "source": [
    "## Rib waveguide sweep\n",
    "\n",
    "For 90nm slab"
   ]
  },
  {
   "cell_type": "code",
   "execution_count": null,
   "metadata": {},
   "outputs": [],
   "source": [
    "widths = np.arange(0.3, 1.0, 0.1)\n",
    "overwrite = False\n",
    "wgs = [ms.waveguide(width=width, slab_thickness=90e-3) for width in widths]\n",
    "r2 = ms.sweep_waveguide(\n",
    "    wgs, widths, n_modes=3, fraction_mode_list=[1, 2, 3], overwrite=overwrite,\n",
    ")"
   ]
  }
 ],
 "metadata": {
  "kernelspec": {
   "display_name": "Python 3 (ipykernel)",
   "language": "python",
   "name": "python3"
  },
  "language_info": {
   "codemirror_mode": {
    "name": "ipython",
    "version": 3
   },
   "file_extension": ".py",
   "mimetype": "text/x-python",
   "name": "python",
   "nbconvert_exporter": "python",
   "pygments_lexer": "ipython3",
   "version": "3.9.5"
  }
 },
 "nbformat": 4,
 "nbformat_minor": 4
}
